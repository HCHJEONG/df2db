{
 "cells": [
  {
   "cell_type": "code",
   "execution_count": null,
   "source": [
    "import os\r\n",
    "import numpy as np\r\n",
    "import pandas as pd\r\n",
    "from sklearn.cluster import KMeans\r\n",
    "from sklearn.model_selection import train_test_split\r\n",
    "from sklearn.feature_extraction.text import TfidfVectorizer\r\n",
    "from sklearn.neighbors import KNeighborsClassifier\r\n",
    "from utilities import lines2wv_model"
   ],
   "outputs": [],
   "metadata": {}
  },
  {
   "cell_type": "code",
   "execution_count": null,
   "source": [
    "# 분석용 데이터프레임/사전준비 w2v 모델 준비\r\n",
    "if os.path.isfile('../web2db/saved/df_summary.pickle'):\r\n",
    "    df_summary = pd.read_pickle(\"../web2db/saved/df_summary.pickle\")\r\n",
    "else: df_summary = pd.DataFrame()\r\n",
    "print(df_summary.info())\r\n",
    "\r\n",
    "s_no =100000\r\n",
    "\r\n",
    "# model = Word2Vec.load(\"C:/Users/hcjeo/VSCodeProjects/web2db/wvec_2021-07-11-15-58-56.model\")\r\n",
    "wvec = lines2wv_model.Lines2Model()\r\n",
    "text_data = list(df_summary['items'])[:s_no]\r\n",
    "model = wvec.run(text_data)"
   ],
   "outputs": [],
   "metadata": {}
  },
  {
   "cell_type": "code",
   "execution_count": null,
   "source": [
    "# 문장 임베딩: 단어벡터 평균\r\n",
    "word_vectors = model.wv\r\n",
    "sentence_vector_list = []\r\n",
    "for i in df_summary['items'][0:s_no]:\r\n",
    "    word_vectors_list_for_an_item = np.empty((100, 0), float)\r\n",
    "    for v in i.split(' '):\r\n",
    "        if v in word_vectors.key_to_index:\r\n",
    "            word_vectors_list_for_an_item = np.append(word_vectors_list_for_an_item, word_vectors[v].reshape(100, 1), axis = 1)\r\n",
    "        else:\r\n",
    "            word_vectors_list_for_an_item = np.append(word_vectors_list_for_an_item, word_vectors['판결'].reshape(100, 1), axis = 1)\r\n",
    "    word_vectors_list_for_an_item_mean = word_vectors_list_for_an_item.mean(axis=1)\r\n",
    "    sentence_vector_list.append(list(word_vectors_list_for_an_item_mean))\r\n",
    "print(np.array(sentence_vector_list).shape)"
   ],
   "outputs": [],
   "metadata": {}
  },
  {
   "cell_type": "code",
   "execution_count": null,
   "source": [
    "# 문장 임베딩: TF IDF\r\n",
    "tfidf_vectorizer = TfidfVectorizer()\r\n",
    "tfidf_vectorizer.fit(text_data)\r\n",
    "sentence = [text_data[3]] \r\n",
    "print(sentence)\r\n",
    "print(tfidf_vectorizer.transform(sentence).toarray())\r\n",
    "sentence_vector_list_ = np.array([tfidf_vectorizer.transform([x]).toarray() for x in text_data])\r\n",
    "print(sentence_vector_list_.shape)\r\n",
    "sentence_vector_list_ = sentence_vector_list_.reshape(10000, 42301)\r\n",
    "print(np.array(sentence_vector_list_).shape)"
   ],
   "outputs": [],
   "metadata": {}
  },
  {
   "cell_type": "code",
   "execution_count": null,
   "source": [
    "# KMEANS 군집 wv mean for K neighbor\r\n",
    "k = 5\r\n",
    "sentence_vector_list = np.array(sentence_vector_list)\r\n",
    "kmeans = KMeans(n_clusters=k, random_state=42)\r\n",
    "y_pred = kmeans.fit_predict(sentence_vector_list)\r\n",
    "\r\n",
    "labels = list(y_pred)\r\n",
    "item_ =  list(df_summary['items'][0:s_no])\r\n",
    "series = pd.Series(item_, index = labels)\r\n",
    "df = series.to_frame().reset_index()\r\n",
    "print(df.head(10))\r\n",
    "# df.to_csv(\"df_500_kmeans.csv\", encoding='utf-8-sig')\r\n",
    "\r\n",
    "t, te, tl, tel = train_test_split(np.array(sentence_vector_list, dtype = object), np.array(labels, dtype= np.int32), test_size = 0.25, random_state=42)\r\n",
    "knn = KNeighborsClassifier(n_neighbors = 1)\r\n",
    "knn.fit(t, tl)\r\n",
    "predict_label = knn.predict(te)\r\n",
    "print('test accuracy {:.2f}'.format(np.mean(predict_label == tel)))"
   ],
   "outputs": [],
   "metadata": {}
  },
  {
   "cell_type": "code",
   "execution_count": null,
   "source": [
    "# KMEANS 군집 tf idf for K neighbor\r\n",
    "k = 5\r\n",
    "sentence_vector_list = sentence_vector_list_\r\n",
    "kmeans = KMeans(n_clusters=k, random_state=42)\r\n",
    "y_pred = kmeans.fit_predict(sentence_vector_list)\r\n",
    "\r\n",
    "labels = list(y_pred)\r\n",
    "item_ =  list(df_summary['items'][0:s_no])\r\n",
    "series = pd.Series(item_, index = labels)\r\n",
    "df = series.to_frame().reset_index()\r\n",
    "print(df.head(10))\r\n",
    "# df.to_csv(\"df_500_kmeans.csv\", encoding='utf-8-sig')\r\n",
    "\r\n",
    "t, te, tl, tel = train_test_split(np.array(sentence_vector_list, dtype = object), np.array(labels, dtype= np.int32), test_size = 0.25, random_state=42)\r\n",
    "knn = KNeighborsClassifier(n_neighbors = 1)\r\n",
    "knn.fit(t, tl)\r\n",
    "predict_label = knn.predict(te)\r\n",
    "print('test accuracy {:.2f}'.format(np.mean(predict_label == tel)))"
   ],
   "outputs": [],
   "metadata": {}
  },
  {
   "cell_type": "code",
   "execution_count": null,
   "source": [
    "# ndarray shape 변환 연습\r\n",
    "k = [\r\n",
    "        [\r\n",
    "            [\r\n",
    "                [\r\n",
    "                    1, 2, 3\r\n",
    "                ],\r\n",
    "                [\r\n",
    "                    4, 5, 6\r\n",
    "                ]\r\n",
    "            ]\r\n",
    "        ],\r\n",
    "\r\n",
    "        [\r\n",
    "            [\r\n",
    "                [\r\n",
    "                    11, 21, 31\r\n",
    "                ],\r\n",
    "                [\r\n",
    "                    41, 51, 61\r\n",
    "                ]\r\n",
    "            ]\r\n",
    "        ]\r\n",
    "    ]\r\n",
    "tt = np.array(k)\r\n",
    "print(tt.shape)\r\n",
    "ttt = tt.reshape(2, 2, 3)\r\n",
    "print(ttt.shape)\r\n",
    "print(ttt)"
   ],
   "outputs": [],
   "metadata": {}
  },
  {
   "cell_type": "code",
   "execution_count": null,
   "source": [],
   "outputs": [],
   "metadata": {}
  }
 ],
 "metadata": {
  "interpreter": {
   "hash": "470bbff7fd3bedc1288bbaabcff339a4dfa4143e539a86a4190b2d8657b18f02"
  },
  "kernelspec": {
   "display_name": "Python 3.8.10 64-bit ('lawboto': conda)",
   "name": "python3"
  },
  "language_info": {
   "codemirror_mode": {
    "name": "ipython",
    "version": 3
   },
   "file_extension": ".py",
   "mimetype": "text/x-python",
   "name": "python",
   "nbconvert_exporter": "python",
   "pygments_lexer": "ipython3",
   "version": "3.8.10"
  },
  "orig_nbformat": 4
 },
 "nbformat": 4,
 "nbformat_minor": 2
}