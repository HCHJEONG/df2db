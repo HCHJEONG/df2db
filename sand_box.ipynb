{
 "cells": [
  {
   "cell_type": "code",
   "execution_count": 2,
   "source": [
    "import pymysql\r\n",
    "import pandas as pd\r\n",
    "\r\n",
    "\r\n",
    "#db연결\r\n",
    "conn_py = pymysql.connect(host = 'localhost', user='root', password = '3330', database = 'test', port = 3307)\r\n",
    "\r\n",
    "\r\n",
    "df_corpus = pd.read_pickle(\"../web2db/saved/df_corpus.pickle\")\r\n",
    "df_corpus = df_corpus.where((pd.notnull(df_corpus)), None) #nan -> none\r\n",
    "colum_names = df_corpus.columns.tolist() # 컬럼이름들(키값)을 튜플로 반환\r\n",
    "t=tuple(colum_names)\r\n",
    "\r\n",
    "list_corpus = []\r\n",
    "i = 0\r\n",
    "\r\n",
    "for i in range(len(df_corpus)): # range 맨마지막 값 포함하는지 확인/ 전체 코르푸스의 갯수만큼 반복문을 돌아라 0 ~ 끝까지\r\n",
    "    tuple_corpus = () # 빈튜플 생성 이 튜플안에 0행의 컬럼이름별 값이 들어갈 것.\r\n",
    "    \r\n",
    "    for j in colum_names: \r\n",
    "        temp = ( df_corpus[j].values[i], ) # j는 열이름 i는 행순서\r\n",
    "        tuple_corpus = tuple_corpus + temp # 0행에 해당하는 모든 열의 값을 튜플로 만듬\r\n",
    "\r\n",
    "    list_corpus.append(tuple_corpus)\r\n",
    "    i += 1\r\n",
    "\r\n",
    "print(len(colum_names))\r\n",
    "\r\n",
    "str_colum_names = ''\r\n",
    "for i in colum_names:\r\n",
    "    str_colum_names = str_colum_names + ', ' + str(i)\r\n",
    "print(str_colum_names)\r\n",
    "\r\n",
    "\r\n",
    "try:\r\n",
    "    with conn_py.cursor() as cursor:\r\n",
    "        sql = 'insert into corpus (' + str_colum_names[1:] +  ' ) values (%s,%s,%s,%s,%s,%s,%s,%s,%s,%s,%s,%s,%s,%s,%s,%s,%s,%s,%s,%s,%s,%s,%s,%s,%s);'\r\n",
    "        cursor.executemany(sql, list_corpus)\r\n",
    "    conn_py.commit()\r\n",
    "finally:\r\n",
    "    conn_py.close()\r\n"
   ],
   "outputs": [],
   "metadata": {}
  }
 ],
 "metadata": {
  "interpreter": {
   "hash": "470bbff7fd3bedc1288bbaabcff339a4dfa4143e539a86a4190b2d8657b18f02"
  },
  "kernelspec": {
   "display_name": "Python 3.8.10 64-bit ('lawboto': conda)",
   "name": "python3"
  },
  "language_info": {
   "codemirror_mode": {
    "name": "ipython",
    "version": 3
   },
   "file_extension": ".py",
   "mimetype": "text/x-python",
   "name": "python",
   "nbconvert_exporter": "python",
   "pygments_lexer": "ipython3",
   "version": "3.8.10"
  },
  "orig_nbformat": 4
 },
 "nbformat": 4,
 "nbformat_minor": 2
}