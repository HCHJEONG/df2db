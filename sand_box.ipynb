{
 "cells": [
  {
   "cell_type": "code",
   "execution_count": 2,
   "source": [
    "import os\r\n",
    "import numpy as np\r\n",
    "import pandas as pd\r\n",
    "from casetxt2df import *"
   ],
   "outputs": [],
   "metadata": {}
  },
  {
   "cell_type": "code",
   "execution_count": 7,
   "source": [
    "# 분석용 데이터프레임/사전준비 w2v 모델 준비\r\n",
    "df_summary = pd.read_pickle(\"./web2df/saved/df_summary.pickle\")\r\n",
    "print(df_summary.info())\r\n",
    "\r\n",
    "data =[]\r\n",
    "for i in range(len(df_summary)):\r\n",
    "    for in df_summary.iloc[i]."
   ],
   "outputs": [
    {
     "output_type": "stream",
     "name": "stdout",
     "text": [
      "<class 'casetxt2df.Main'>\n"
     ]
    }
   ],
   "metadata": {}
  }
 ],
 "metadata": {
  "interpreter": {
   "hash": "470bbff7fd3bedc1288bbaabcff339a4dfa4143e539a86a4190b2d8657b18f02"
  },
  "kernelspec": {
   "display_name": "Python 3.8.10 64-bit ('lawboto': conda)",
   "name": "python3"
  },
  "language_info": {
   "codemirror_mode": {
    "name": "ipython",
    "version": 3
   },
   "file_extension": ".py",
   "mimetype": "text/x-python",
   "name": "python",
   "nbconvert_exporter": "python",
   "pygments_lexer": "ipython3",
   "version": "3.8.10"
  },
  "orig_nbformat": 4
 },
 "nbformat": 4,
 "nbformat_minor": 2
}